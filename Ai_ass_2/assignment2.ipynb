{
 "cells": [
  {
   "cell_type": "markdown",
   "id": "3ae2ba9c",
   "metadata": {},
   "source": [
    "#  Dataset Selection and Preprocessing"
   ]
  },
  {
   "cell_type": "code",
   "execution_count": 6,
   "id": "109883c8",
   "metadata": {},
   "outputs": [
    {
     "name": "stdout",
     "output_type": "stream",
     "text": [
      "Index(['fixed acidity', 'volatile acidity', 'citric acid', 'residual sugar',\n",
      "       'chlorides', 'free sulfur dioxide', 'total sulfur dioxide', 'density',\n",
      "       'pH', 'sulphates', 'alcohol', 'quality'],\n",
      "      dtype='object')\n",
      "Data Preprocessing Complete.\n"
     ]
    }
   ],
   "source": [
    "# Import necessary libraries\n",
    "import pandas as pd\n",
    "from sklearn.model_selection import train_test_split\n",
    "from sklearn.preprocessing import MinMaxScaler\n",
    "from sklearn.ensemble import RandomForestRegressor\n",
    "from sklearn.metrics import mean_squared_error, r2_score\n",
    "\n",
    "# Load the dataset\n",
    "# data = pd.read_csv('winequality-red.csv')\n",
    "data = pd.read_csv('winequality-red.csv', delimiter=';')\n",
    "# Check the column names in the dataset\n",
    "print(data.columns)\n",
    "\n",
    "# Separate features and target variable\n",
    "X = data.drop(columns='quality')\n",
    "y = data['quality']\n",
    "\n",
    "# Normalize the data using Min-Max Scaler\n",
    "scaler = MinMaxScaler()\n",
    "X_normalized = scaler.fit_transform(X)\n",
    "\n",
    "# Split the dataset into training (80%) and testing sets (20%)\n",
    "X_train, X_test, y_train, y_test = train_test_split(X_normalized, y, test_size=0.2, random_state=42)\n",
    "\n",
    "print(\"Data Preprocessing Complete.\")\n"
   ]
  },
  {
   "cell_type": "markdown",
   "id": "15c4013c",
   "metadata": {},
   "source": [
    "# Model Design and Implementation"
   ]
  },
  {
   "cell_type": "code",
   "execution_count": 7,
   "id": "fd107ced",
   "metadata": {},
   "outputs": [
    {
     "name": "stdout",
     "output_type": "stream",
     "text": [
      "Model Training Complete.\n"
     ]
    }
   ],
   "source": [
    "# Instantiate the Random Forest Regressor\n",
    "model = RandomForestRegressor(random_state=42)\n",
    "\n",
    "# Train the model using the training dataset\n",
    "model.fit(X_train, y_train)\n",
    "\n",
    "print(\"Model Training Complete.\")\n"
   ]
  },
  {
   "cell_type": "markdown",
   "id": "d5b6a367",
   "metadata": {},
   "source": [
    "# Model Training and Evaluation"
   ]
  },
  {
   "cell_type": "code",
   "execution_count": 8,
   "id": "7408f980",
   "metadata": {},
   "outputs": [
    {
     "name": "stdout",
     "output_type": "stream",
     "text": [
      "Model Evaluation:\n",
      "Mean Squared Error (MSE): 0.30\n",
      "R-squared: 0.54\n"
     ]
    }
   ],
   "source": [
    "# Make predictions on the testing set\n",
    "y_pred = model.predict(X_test)\n",
    "\n",
    "# Evaluate the model using Mean Squared Error (MSE) and R-squared metrics\n",
    "mse = mean_squared_error(y_test, y_pred)\n",
    "r2 = r2_score(y_test, y_pred)\n",
    "\n",
    "print(f\"Model Evaluation:\")\n",
    "print(f\"Mean Squared Error (MSE): {mse:.2f}\")\n",
    "print(f\"R-squared: {r2:.2f}\")\n"
   ]
  },
  {
   "cell_type": "code",
   "execution_count": null,
   "id": "51e012f4",
   "metadata": {},
   "outputs": [],
   "source": []
  }
 ],
 "metadata": {
  "kernelspec": {
   "display_name": "Python 3 (ipykernel)",
   "language": "python",
   "name": "python3"
  },
  "language_info": {
   "codemirror_mode": {
    "name": "ipython",
    "version": 3
   },
   "file_extension": ".py",
   "mimetype": "text/x-python",
   "name": "python",
   "nbconvert_exporter": "python",
   "pygments_lexer": "ipython3",
   "version": "3.11.5"
  }
 },
 "nbformat": 4,
 "nbformat_minor": 5
}
